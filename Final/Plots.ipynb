{
 "cells": [
  {
   "cell_type": "code",
   "execution_count": null,
   "metadata": {
    "collapsed": true
   },
   "outputs": [],
   "source": [
    "%matplotlib inline"
   ]
  },
  {
   "cell_type": "code",
   "execution_count": null,
   "metadata": {
    "collapsed": true
   },
   "outputs": [],
   "source": [
    "import matplotlib.pyplot as plt\n",
    "import pandas as pd\n",
    "import numpy as np\n",
    "import seaborn as sns\n",
    "import re"
   ]
  },
  {
   "cell_type": "code",
   "execution_count": null,
   "metadata": {
    "collapsed": true
   },
   "outputs": [],
   "source": [
    "textwidth=360/72"
   ]
  },
  {
   "cell_type": "code",
   "execution_count": null,
   "metadata": {
    "collapsed": false
   },
   "outputs": [],
   "source": [
    "def model(n, p, A):\n",
    "    return A * n**3 / p"
   ]
  },
  {
   "cell_type": "code",
   "execution_count": null,
   "metadata": {
    "collapsed": false
   },
   "outputs": [],
   "source": [
    "def parse_mmul_out(fp):\n",
    "    results = []\n",
    "    with open(fp) as f:\n",
    "        for line in f:\n",
    "            m = re.match('N=(\\d+) TH=(\\d+)', line)\n",
    "            if m:\n",
    "                N = m.group(1)\n",
    "                th = m.group(2)\n",
    "\n",
    "            m = re.search(\n",
    "                r'(OpenMP|ThreadPool|LFThreadPool|threadpool11): (\\d+\\.\\d+e[+-]\\d+) +(\\d+\\.\\d+e[+-]\\d+) +(\\d+\\.\\d+e[+-]\\d+)', line)\n",
    "            if m:\n",
    "                results.append({'N': int(N),\n",
    "                                'num_threads': int(th),\n",
    "                                'library': str(m.group(1)),\n",
    "                                'minTime': float(m.group(2)),\n",
    "                                'meanTime': float(m.group(3)),\n",
    "                                'maxTime': float(m.group(4))})\n",
    "    return pd.DataFrame(results)"
   ]
  },
  {
   "cell_type": "code",
   "execution_count": null,
   "metadata": {
    "collapsed": false
   },
   "outputs": [],
   "source": [
    "macres = parse_mmul_out('./mmul_macmini.txt')\n",
    "bwres = parse_mmul_out('./mmul_bw2.txt')"
   ]
  },
  {
   "cell_type": "code",
   "execution_count": null,
   "metadata": {
    "collapsed": false
   },
   "outputs": [],
   "source": [
    "sns.set_style('ticks')\n",
    "sns.set_context('paper')\n",
    "sns.set_color_codes()"
   ]
  },
  {
   "cell_type": "code",
   "execution_count": null,
   "metadata": {
    "collapsed": false
   },
   "outputs": [],
   "source": [
    "bwres.head()"
   ]
  },
  {
   "cell_type": "code",
   "execution_count": null,
   "metadata": {
    "collapsed": true
   },
   "outputs": [],
   "source": []
  },
  {
   "cell_type": "code",
   "execution_count": null,
   "metadata": {
    "collapsed": false
   },
   "outputs": [],
   "source": [
    "fg = sns.FacetGrid(macres, hue='library', col='N', size=5, sharey=False, col_wrap=2)\n",
    "fg.map(plt.plot, 'num_threads', 'minTime').add_legend()\n",
    "# plt.semilogy()"
   ]
  },
  {
   "cell_type": "code",
   "execution_count": null,
   "metadata": {
    "collapsed": false
   },
   "outputs": [],
   "source": [
    "def myplot(*args, **kwargs):\n",
    "    plt.plot(*args, **kwargs)\n",
    "    plt.ticklabel_format(style='sci', axis='y', scilimits=(0, 2))\n",
    "#     plt.loglog(basex=2, basey=10)\n",
    "\n",
    "plt.figure(figsize=(6,6))\n",
    "fg = sns.FacetGrid(bwres, hue='library', col='N', size=textwidth/3, sharey=False, col_wrap=3,\n",
    "                   hue_kws={'marker': ['o', 's', 'v', '^'], 'linestyle': ['-', '--', '-.', ':']})\n",
    "fg.map(myplot, 'num_threads', 'minTime')\n",
    "# fg.add_legend(title='Library')\n",
    "fg.set_axis_labels('Number of threads', 'Min time [s]')\n",
    "plt.legend(loc='upper center', bbox_to_anchor=(0.5, 0), bbox_transform=plt.gcf().transFigure,\n",
    "           ncol=2, frameon=False)\n",
    "\n",
    "# plt.savefig('mmul_times.pdf', bbox_inches='tight')"
   ]
  },
  {
   "cell_type": "code",
   "execution_count": null,
   "metadata": {
    "collapsed": false
   },
   "outputs": [],
   "source": [
    "plt.figure(figsize=(3, 3*0.8))\n",
    "d = bwres[(bwres.N == 2000) & (bwres.library == 'OpenMP')]\n",
    "plt.plot(d.num_threads, d.minTime, 'o', label='OpenMP')\n",
    "xs = np.logspace(1, 5, 100, base=2)\n",
    "plt.plot(xs, model(2000, xs, A=2.7e-8), 'b-', label='Model')\n",
    "plt.legend()\n",
    "sns.despine()\n",
    "plt.loglog(basex=2)\n",
    "plt.xlim(2**0.9, 2**5.1)\n",
    "plt.xlabel('Number of threads')\n",
    "plt.ylabel('Min time [s]')\n",
    "plt.tight_layout()\n",
    "# plt.savefig('modelfit.pdf')"
   ]
  },
  {
   "cell_type": "code",
   "execution_count": null,
   "metadata": {
    "collapsed": false
   },
   "outputs": [],
   "source": [
    "from itertools import cycle\n",
    "mkr = cycle(['o-', 's--', 'v-.', '^:'])\n",
    "\n",
    "N = 2000\n",
    "\n",
    "plt.figure(figsize=(3, 3*0.8))\n",
    "d = bwres[(bwres.N == N)]\n",
    "for i, df in d.groupby('library'):\n",
    "    plt.plot(df.num_threads, df.minTime / model(N, df.num_threads, A=2.7e-8), next(mkr), label=i)\n",
    "    \n",
    "    plt.legend(loc=2, frameon=True)\n",
    "    plt.xlim(2**(0.9), 2**5.1)\n",
    "#     plt.hlines(1.0, 2, 2**5, linewidth=1)\n",
    "\n",
    "    plt.semilogx(basex=2)\n",
    "    plt.grid(True, which='both')\n",
    "#     sns.despine()\n",
    "    \n",
    "    plt.ylabel('Ratio to model')\n",
    "    plt.xlabel('Number of threads')\n",
    "    \n",
    "    plt.tight_layout()\n",
    "    \n",
    "    plt.savefig('mmul_ratios.pdf')"
   ]
  },
  {
   "cell_type": "code",
   "execution_count": null,
   "metadata": {
    "collapsed": true
   },
   "outputs": [],
   "source": []
  }
 ],
 "metadata": {
  "kernelspec": {
   "display_name": "Python 3",
   "language": "python",
   "name": "python3"
  },
  "language_info": {
   "codemirror_mode": {
    "name": "ipython",
    "version": 3
   },
   "file_extension": ".py",
   "mimetype": "text/x-python",
   "name": "python",
   "nbconvert_exporter": "python",
   "pygments_lexer": "ipython3",
   "version": "3.5.1"
  }
 },
 "nbformat": 4,
 "nbformat_minor": 0
}
