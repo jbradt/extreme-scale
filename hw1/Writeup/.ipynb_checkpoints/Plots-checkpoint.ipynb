{
 "cells": [
  {
   "cell_type": "code",
   "execution_count": null,
   "metadata": {
    "collapsed": true
   },
   "outputs": [],
   "source": [
    "%matplotlib inline"
   ]
  },
  {
   "cell_type": "code",
   "execution_count": null,
   "metadata": {
    "collapsed": true
   },
   "outputs": [],
   "source": [
    "import matplotlib.pyplot as plt\n",
    "import pandas as pd\n",
    "import numpy as np\n",
    "import seaborn as sns\n",
    "import scipy"
   ]
  },
  {
   "cell_type": "code",
   "execution_count": null,
   "metadata": {
    "collapsed": true
   },
   "outputs": [],
   "source": [
    "sns.set_color_codes()\n",
    "sns.set_context('paper')"
   ]
  },
  {
   "cell_type": "code",
   "execution_count": null,
   "metadata": {
    "collapsed": false
   },
   "outputs": [],
   "source": [
    "data = pd.read_csv('results.csv', index_col=0, skiprows=1,\n",
    "                   names=('time', 'Mflops', 'from_first', 'from_clock'))\n",
    "data"
   ]
  },
  {
   "cell_type": "code",
   "execution_count": null,
   "metadata": {
    "collapsed": true
   },
   "outputs": [],
   "source": [
    "sns.set_style('darkgrid')"
   ]
  },
  {
   "cell_type": "code",
   "execution_count": null,
   "metadata": {
    "collapsed": false
   },
   "outputs": [],
   "source": [
    "plt.figure(figsize=(4, 3))\n",
    "plt.plot(data.index, data.time, 'bo-', label='Measured')\n",
    "plt.plot(data.index, data.from_first, 'rs-', label='From first point')\n",
    "plt.plot(data.index, data.from_clock, 'g^-', label='From clock period')\n",
    "sns.despine()\n",
    "plt.xlim(0, 2100)\n",
    "plt.ylim(-5, 80)\n",
    "plt.xlabel('N')\n",
    "plt.ylabel('Time [s]')\n",
    "plt.legend(loc=2)\n",
    "plt.savefig('times.pdf')"
   ]
  },
  {
   "cell_type": "code",
   "execution_count": null,
   "metadata": {
    "collapsed": false
   },
   "outputs": [],
   "source": [
    "plt.plot(data.index, data.time, 'bo-', label='Measured')\n",
    "plt.plot(data.index, data.from_first, 'rs-', label='From first point')\n",
    "plt.plot(data.index, data.from_clock, 'g^-', label='From clock period')\n",
    "sns.despine()\n",
    "plt.xlim(0, 500)\n",
    "plt.ylim(0, 0.08)\n",
    "plt.xlabel('N')\n",
    "plt.ylabel('Time [s]')\n",
    "plt.legend(loc=2)"
   ]
  },
  {
   "cell_type": "code",
   "execution_count": null,
   "metadata": {
    "collapsed": false
   },
   "outputs": [],
   "source": [
    "plt.plot(data.index, data.Mflops, 'mo-')\n",
    "plt.xlabel('N')\n",
    "plt.ylabel('Performance [MFLOPS]')"
   ]
  },
  {
   "cell_type": "code",
   "execution_count": null,
   "metadata": {
    "collapsed": true
   },
   "outputs": [],
   "source": []
  }
 ],
 "metadata": {
  "kernelspec": {
   "display_name": "Python 3",
   "language": "python",
   "name": "python3"
  },
  "language_info": {
   "codemirror_mode": {
    "name": "ipython",
    "version": 3
   },
   "file_extension": ".py",
   "mimetype": "text/x-python",
   "name": "python",
   "nbconvert_exporter": "python",
   "pygments_lexer": "ipython3",
   "version": "3.4.3"
  }
 },
 "nbformat": 4,
 "nbformat_minor": 0
}
