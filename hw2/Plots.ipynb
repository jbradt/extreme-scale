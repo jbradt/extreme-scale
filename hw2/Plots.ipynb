{
 "cells": [
  {
   "cell_type": "code",
   "execution_count": null,
   "metadata": {
    "collapsed": true
   },
   "outputs": [],
   "source": [
    "%matplotlib inline"
   ]
  },
  {
   "cell_type": "code",
   "execution_count": null,
   "metadata": {
    "collapsed": false
   },
   "outputs": [],
   "source": [
    "import matplotlib.pyplot as plt\n",
    "import seaborn as sns\n",
    "import numpy as np\n",
    "import pandas as pd"
   ]
  },
  {
   "cell_type": "code",
   "execution_count": null,
   "metadata": {
    "collapsed": true
   },
   "outputs": [],
   "source": [
    "sns.set_color_codes()\n",
    "sns.set_style('ticks')\n",
    "sns.set_context('paper')"
   ]
  },
  {
   "cell_type": "code",
   "execution_count": null,
   "metadata": {
    "collapsed": true
   },
   "outputs": [],
   "source": [
    "data = pd.read_csv('Results.csv')"
   ]
  },
  {
   "cell_type": "code",
   "execution_count": null,
   "metadata": {
    "collapsed": false
   },
   "outputs": [],
   "source": [
    "data"
   ]
  },
  {
   "cell_type": "code",
   "execution_count": null,
   "metadata": {
    "collapsed": false
   },
   "outputs": [],
   "source": [
    "plt.figure(figsize=(4, 4/1.4))\n",
    "plt.plot(data.N, data.time, 'o-')\n",
    "\n",
    "# plt.xlim(0, 5000000)\n",
    "plt.ylim(-0.0001, 1e-3)\n",
    "plt.xlim(1e2, 0.5e7)\n",
    "plt.semilogx()\n",
    "plt.ticklabel_format(axis='y', scilimits=(-1, 1))\n",
    "plt.xlabel('Number of points in array')\n",
    "plt.ylabel('Time per loop [s]')\n",
    "\n",
    "plt.tight_layout()\n",
    "sns.despine()\n",
    "plt.savefig('./Writeup/p1time.pdf', transparent=True)"
   ]
  },
  {
   "cell_type": "code",
   "execution_count": null,
   "metadata": {
    "collapsed": false
   },
   "outputs": [],
   "source": [
    "plt.figure(figsize=(4, 4/1.4))\n",
    "plt.plot(data.N, data.rate, 'o-')\n",
    "\n",
    "# plt.xlim(0, 5000000)\n",
    "# plt.ylim(-0.0001, 1e-3)\n",
    "plt.xlim(1e2, 0.5e7)\n",
    "plt.semilogx()\n",
    "plt.ticklabel_format(axis='y', scilimits=(-1, 1))\n",
    "plt.xlabel('Number of points in array')\n",
    "plt.ylabel('Data rate [MB/s]')\n",
    "\n",
    "plt.tight_layout()\n",
    "sns.despine()\n",
    "plt.savefig('./Writeup/p1rate.pdf', transparent=True)"
   ]
  },
  {
   "cell_type": "code",
   "execution_count": null,
   "metadata": {
    "collapsed": true
   },
   "outputs": [],
   "source": []
  }
 ],
 "metadata": {
  "kernelspec": {
   "display_name": "Python 3",
   "language": "python",
   "name": "python3"
  },
  "language_info": {
   "codemirror_mode": {
    "name": "ipython",
    "version": 3
   },
   "file_extension": ".py",
   "mimetype": "text/x-python",
   "name": "python",
   "nbconvert_exporter": "python",
   "pygments_lexer": "ipython3",
   "version": "3.5.1"
  }
 },
 "nbformat": 4,
 "nbformat_minor": 0
}
