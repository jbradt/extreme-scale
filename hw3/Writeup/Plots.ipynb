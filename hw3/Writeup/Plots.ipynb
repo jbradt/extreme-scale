{
 "cells": [
  {
   "cell_type": "code",
   "execution_count": null,
   "metadata": {
    "collapsed": true
   },
   "outputs": [],
   "source": [
    "%matplotlib inline"
   ]
  },
  {
   "cell_type": "code",
   "execution_count": null,
   "metadata": {
    "collapsed": false
   },
   "outputs": [],
   "source": [
    "import numpy as np\n",
    "import pandas as pd\n",
    "import matplotlib.pyplot as plt\n",
    "import seaborn as sns"
   ]
  },
  {
   "cell_type": "code",
   "execution_count": null,
   "metadata": {
    "collapsed": true
   },
   "outputs": [],
   "source": [
    "sns.set_color_codes()\n",
    "sns.set_style('ticks')\n",
    "sns.set_context('paper')"
   ]
  },
  {
   "cell_type": "code",
   "execution_count": null,
   "metadata": {
    "collapsed": true
   },
   "outputs": [],
   "source": [
    "data = pd.read_csv('Results.csv')"
   ]
  },
  {
   "cell_type": "code",
   "execution_count": null,
   "metadata": {
    "collapsed": false
   },
   "outputs": [],
   "source": [
    "data"
   ]
  },
  {
   "cell_type": "code",
   "execution_count": null,
   "metadata": {
    "collapsed": false
   },
   "outputs": [],
   "source": [
    "plt.figure(figsize=(4.4, 4.4/1.3))\n",
    "plt.plot(data.n, data.basic, 'bo-', label='Basic')\n",
    "plt.plot(data.n, data.model, 'g^--', label='Model')\n",
    "plt.plot(data.n, data.blocked, 'rs-.', label='Blocked')\n",
    "plt.plot(data.n, data.cache_obliv, 'cd:', label='Cache Oblivious')\n",
    "sns.despine()\n",
    "plt.loglog()\n",
    "\n",
    "plt.xlabel('Dimension of matrix')\n",
    "plt.ylabel('Best time [s]')\n",
    "plt.legend(loc=2)\n",
    "plt.tight_layout()\n",
    "plt.savefig('res_loglog.pdf')"
   ]
  },
  {
   "cell_type": "code",
   "execution_count": null,
   "metadata": {
    "collapsed": false
   },
   "outputs": [],
   "source": [
    "plt.figure(figsize=(4, 4/1.4))\n",
    "plt.plot(data.n, data.basic, 'bo-', label='Basic')\n",
    "plt.plot(data.n, data.model, 'g^--', label='Model')\n",
    "plt.plot(data.n, data.blocked, 'rs-.', label='Blocked')\n",
    "plt.plot(data.n, data.cache_obliv, 'cd:', label='Cache Oblivious')\n",
    "sns.despine()\n",
    "\n",
    "plt.xlim(0, 4100)\n",
    "\n",
    "plt.xlabel('Dimension of matrix')\n",
    "plt.ylabel('Best time [s]')\n",
    "plt.legend(loc=2)\n",
    "plt.tight_layout()\n",
    "plt.savefig('res_lin.pdf')"
   ]
  },
  {
   "cell_type": "code",
   "execution_count": null,
   "metadata": {
    "collapsed": true
   },
   "outputs": [],
   "source": []
  }
 ],
 "metadata": {
  "kernelspec": {
   "display_name": "Python 3",
   "language": "python",
   "name": "python3"
  },
  "language_info": {
   "codemirror_mode": {
    "name": "ipython",
    "version": 3
   },
   "file_extension": ".py",
   "mimetype": "text/x-python",
   "name": "python",
   "nbconvert_exporter": "python",
   "pygments_lexer": "ipython3",
   "version": "3.5.1"
  }
 },
 "nbformat": 4,
 "nbformat_minor": 0
}
