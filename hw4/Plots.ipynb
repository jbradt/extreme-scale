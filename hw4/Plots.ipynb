{
 "cells": [
  {
   "cell_type": "code",
   "execution_count": null,
   "metadata": {
    "collapsed": true
   },
   "outputs": [],
   "source": [
    "%matplotlib inline"
   ]
  },
  {
   "cell_type": "code",
   "execution_count": null,
   "metadata": {
    "collapsed": true
   },
   "outputs": [],
   "source": [
    "import matplotlib.pyplot as plt\n",
    "import numpy as np\n",
    "import seaborn as sns\n",
    "import pandas as pd\n",
    "import re\n",
    "import glob"
   ]
  },
  {
   "cell_type": "code",
   "execution_count": null,
   "metadata": {
    "collapsed": true
   },
   "outputs": [],
   "source": [
    "sns.set_style('ticks')\n",
    "sns.set_context('paper')\n",
    "sns.set_color_codes()"
   ]
  },
  {
   "cell_type": "code",
   "execution_count": null,
   "metadata": {
    "collapsed": true
   },
   "outputs": [],
   "source": [
    "def parse_output(f):\n",
    "    times = []\n",
    "    rates = []\n",
    "\n",
    "    l = f.readline()\n",
    "    m = re.search(r'Optimization.*O(\\d)', l)\n",
    "    if m:\n",
    "        opt_level = int(m.group(1))\n",
    "\n",
    "    for l in f:\n",
    "        m = re.search(r'For N=(\\d+)', l)\n",
    "        if m:\n",
    "            dim = int(m.group(1))\n",
    "            continue\n",
    "\n",
    "        if re.search('Timings', l):\n",
    "            list_to_append = times\n",
    "            value_name = 'time'\n",
    "            continue\n",
    "        elif re.search('Performance', l):\n",
    "            list_to_append = rates\n",
    "            value_name = 'rate'\n",
    "            continue\n",
    "\n",
    "        m = re.search('(Regular|Blocked):\\s*(\\d+\\.\\d+e[\\+,\\-]\\d+)\\s*(\\d+\\.\\d+e[\\+,\\-]\\d+)\\s*(\\d+\\.\\d+e[\\+,\\-]\\d+)', l)\n",
    "        if m:\n",
    "            list_to_append.append({'N': dim, 'opt_level': opt_level, 'algo': m.group(1), value_name: float(m.group(3))})\n",
    "        continue\n",
    "\n",
    "    times = pd.DataFrame(times)\n",
    "    rates = pd.DataFrame(rates)\n",
    "    \n",
    "    return pd.merge(times, rates, how='outer')"
   ]
  },
  {
   "cell_type": "code",
   "execution_count": null,
   "metadata": {
    "collapsed": false
   },
   "outputs": [],
   "source": [
    "res = []\n",
    "for fp in glob.glob('outputs/*.o*'):\n",
    "    with open(fp, 'r') as f:\n",
    "        r = parse_output(f)\n",
    "    res.append(r)\n",
    "    \n",
    "res = pd.concat(res, axis=0, ignore_index=True)"
   ]
  },
  {
   "cell_type": "code",
   "execution_count": null,
   "metadata": {
    "collapsed": false
   },
   "outputs": [],
   "source": [
    "fg = sns.FacetGrid(res, col='opt_level', col_wrap=2, size=2, hue='algo', hue_kws={\"marker\": [\"^\", \"v\"]}, palette='Set1')\n",
    "fg.map(plt.plot, 'N', 'time')\n",
    "fg.add_legend(title='Algorithm')\n",
    "fg.set_titles(\"Opt. level O{col_name}\")\n",
    "fg.set_axis_labels('Dimension of matrix', 'Time [s]')\n",
    "plt.xlim(0, 2100)\n",
    "plt.savefig('writeup/opttime.pdf')"
   ]
  },
  {
   "cell_type": "code",
   "execution_count": null,
   "metadata": {
    "collapsed": false
   },
   "outputs": [],
   "source": [
    "fg = sns.FacetGrid(res, col='opt_level', col_wrap=2, hue='algo', size=2, hue_kws={\"marker\": [\"^\", \"v\"]}, palette='Set1')\n",
    "fg.map(plt.plot, 'N', 'rate')\n",
    "fg.add_legend(title='Algorithm')\n",
    "fg.set_titles(\"Opt. level O{col_name}\")\n",
    "fg.set_axis_labels('Dimension of matrix', 'Rate [FLOPS]')\n",
    "plt.xlim(0, 2100)\n",
    "plt.savefig('writeup/optrate.pdf')"
   ]
  },
  {
   "cell_type": "code",
   "execution_count": null,
   "metadata": {
    "collapsed": false
   },
   "outputs": [],
   "source": [
    "fg = sns.FacetGrid(res, hue='opt_level', col='algo', size=2, hue_kws={\"marker\": [\"^\", \"v\", 's', 'o']}, palette='Set1')\n",
    "fg.map(plt.plot, 'N', 'time')\n",
    "fg.add_legend(title='Opt. level')\n",
    "fg.set_titles(\"{col_name}\")\n",
    "fg.set_axis_labels('Dimension of matrix', 'Time [s]')\n",
    "plt.xlim(0, 2100)\n",
    "plt.savefig('writeup/algotime.pdf')"
   ]
  },
  {
   "cell_type": "code",
   "execution_count": null,
   "metadata": {
    "collapsed": false
   },
   "outputs": [],
   "source": [
    "fg = sns.FacetGrid(res, hue='opt_level', col='algo', size=2, hue_kws={\"marker\": [\"^\", \"v\", 's', 'o']}, palette='Set1')\n",
    "fg.map(plt.plot, 'N', 'rate')\n",
    "fg.add_legend(title='Opt. level')\n",
    "fg.set_titles(\"{col_name}\")\n",
    "fg.set_axis_labels('Dimension of matrix', 'Rate [FLOPS]')\n",
    "plt.xlim(0, 2100)\n",
    "plt.savefig('writeup/algorate.pdf')"
   ]
  },
  {
   "cell_type": "code",
   "execution_count": null,
   "metadata": {
    "collapsed": false
   },
   "outputs": [],
   "source": [
    "res.to_csv('res.csv')"
   ]
  },
  {
   "cell_type": "code",
   "execution_count": null,
   "metadata": {
    "collapsed": true
   },
   "outputs": [],
   "source": []
  }
 ],
 "metadata": {
  "kernelspec": {
   "display_name": "Python 3",
   "language": "python",
   "name": "python3"
  },
  "language_info": {
   "codemirror_mode": {
    "name": "ipython",
    "version": 3
   },
   "file_extension": ".py",
   "mimetype": "text/x-python",
   "name": "python",
   "nbconvert_exporter": "python",
   "pygments_lexer": "ipython3",
   "version": "3.5.1"
  }
 },
 "nbformat": 4,
 "nbformat_minor": 0
}
