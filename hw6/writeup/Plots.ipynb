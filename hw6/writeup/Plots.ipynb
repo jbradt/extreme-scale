{
 "cells": [
  {
   "cell_type": "code",
   "execution_count": null,
   "metadata": {
    "collapsed": true
   },
   "outputs": [],
   "source": [
    "%matplotlib inline"
   ]
  },
  {
   "cell_type": "code",
   "execution_count": null,
   "metadata": {
    "collapsed": true
   },
   "outputs": [],
   "source": [
    "import matplotlib.pyplot as plt\n",
    "import seaborn as sns\n",
    "import re\n",
    "import pandas as pd"
   ]
  },
  {
   "cell_type": "code",
   "execution_count": null,
   "metadata": {
    "collapsed": true
   },
   "outputs": [],
   "source": [
    "sns.set_color_codes()\n",
    "sns.set_style('white')\n",
    "sns.set_context('paper')"
   ]
  },
  {
   "cell_type": "code",
   "execution_count": null,
   "metadata": {
    "collapsed": true
   },
   "outputs": [],
   "source": [
    "def parse_output(f):\n",
    "    times = {}\n",
    "    rates = {}\n",
    "\n",
    "    for l in f:\n",
    "        m = re.search(r'Num threads: (\\d+)', l)\n",
    "        if m:\n",
    "            num_threads = int(m.group(1))\n",
    "            continue\n",
    "\n",
    "        m = re.search('(Mean time|Rate)\\s*=\\s(\\d+\\.\\d+e[\\+,\\-]\\d+)', l)\n",
    "        if m:\n",
    "            if m.group(1) == 'Mean time':\n",
    "                times[num_threads] = float(m.group(2))\n",
    "            elif m.group(1) == 'Rate':\n",
    "                rates[num_threads] = float(m.group(2))\n",
    "        continue\n",
    "\n",
    "    times = pd.Series(times, name='time')\n",
    "    rates = pd.Series(rates, name='rate')\n",
    "    \n",
    "    return pd.concat((times, rates), axis=1)"
   ]
  },
  {
   "cell_type": "code",
   "execution_count": null,
   "metadata": {
    "collapsed": false
   },
   "outputs": [],
   "source": [
    "with open('result.txt') as f:\n",
    "    mac = parse_output(f)\n",
    "with open('hpcc-results.txt') as f:\n",
    "    hpcc = parse_output(f)"
   ]
  },
  {
   "cell_type": "code",
   "execution_count": null,
   "metadata": {
    "collapsed": false
   },
   "outputs": [],
   "source": [
    "mac"
   ]
  },
  {
   "cell_type": "code",
   "execution_count": null,
   "metadata": {
    "collapsed": false
   },
   "outputs": [],
   "source": [
    "pd.concat((mac, hpcc), axis=1)"
   ]
  },
  {
   "cell_type": "code",
   "execution_count": null,
   "metadata": {
    "collapsed": false
   },
   "outputs": [],
   "source": [
    "plt.figure(figsize=(4, 2.6))\n",
    "tl = plt.plot(mac.index, mac.time, 'bo-')\n",
    "plt.xlabel('Number of threads')\n",
    "plt.ylabel('Time [s]')\n",
    "\n",
    "plt.sca(plt.twinx(plt.gca()))\n",
    "rl = plt.plot(mac.index, mac.rate, 'rs-')\n",
    "model = plt.plot(mac.index, mac.index*mac.rate.iloc[0], 'k--')\n",
    "plt.ylim(5000, 13000)\n",
    "plt.ylabel('Rate [MB/s]')\n",
    "\n",
    "plt.xlim(0, 17)\n",
    "\n",
    "plt.legend((tl[0], rl[0], model[0]), ('Time', 'Rate', 'Model'), loc=5)\n",
    "\n",
    "plt.tight_layout()\n",
    "plt.savefig('macplot.pdf')"
   ]
  },
  {
   "cell_type": "code",
   "execution_count": null,
   "metadata": {
    "collapsed": false
   },
   "outputs": [],
   "source": [
    "tl = plt.plot(hpcc.index, hpcc.time, 'bo-')\n",
    "plt.xlabel('Number of threads')\n",
    "plt.ylabel('Time [s]')\n",
    "\n",
    "plt.sca(plt.twinx(plt.gca()))\n",
    "rl = plt.plot(hpcc.index, hpcc.rate, 'rs-')\n",
    "model = plt.plot(hpcc.index, hpcc.index * hpcc.rate[1], 'k--')\n",
    "plt.ylabel('Rate [MB/s]')\n",
    "\n",
    "plt.xlim(0, 17)\n",
    "\n",
    "plt.legend((tl[0], rl[0], model[0]), ('Time', 'Rate', 'Model'), loc=(0.85, 0.2))"
   ]
  },
  {
   "cell_type": "code",
   "execution_count": null,
   "metadata": {
    "collapsed": false
   },
   "outputs": [],
   "source": [
    "fig, ax = plt.subplots(2, 1, squeeze=True, sharex=False, figsize=(4.5, 5.7))\n",
    "plt.sca(ax[0])\n",
    "tl = plt.plot(mac.index, mac.time, 'bo-')\n",
    "plt.ylabel('Time [s]')\n",
    "\n",
    "plt.sca(plt.twinx(plt.gca()))\n",
    "rl = plt.plot(mac.index, mac.rate, 'rs-')\n",
    "model = plt.plot(mac.index, mac.index*mac.rate.iloc[0], 'k--')\n",
    "plt.ylim(5000, 14000)\n",
    "plt.ylabel('Rate [MB/s]')\n",
    "\n",
    "plt.legend((tl[0], rl[0], model[0]), ('Time', 'Rate', 'Model'), loc=5)\n",
    "# plt.text(0.5, 0.95, 'Mac Mini', transform=plt.gca().transAxes, ha='center', va='top')\n",
    "plt.title('Mac Mini')\n",
    "\n",
    "plt.xlim(0, 17)\n",
    "\n",
    "plt.sca(ax[1])\n",
    "\n",
    "tl = plt.plot(hpcc.index, hpcc.time, 'bo-')\n",
    "plt.xlabel('Number of threads')\n",
    "plt.ylabel('Time [s]')\n",
    "\n",
    "plt.sca(plt.twinx(plt.gca()))\n",
    "rl = plt.plot(hpcc.index, hpcc.rate, 'rs-')\n",
    "model = plt.plot(hpcc.index, hpcc.index * hpcc.rate[1], 'k--')\n",
    "plt.ylabel('Rate [MB/s]')\n",
    "\n",
    "plt.xlim(0, 17)\n",
    "\n",
    "plt.legend((tl[0], rl[0], model[0]), ('Time', 'Rate', 'Model'), loc=(0.77, 0.2))\n",
    "# plt.text(0.5, 0.95, 'HPCC', transform=plt.gca().transAxes, ha='center', va='top')\n",
    "plt.title('HPCC')\n",
    "\n",
    "# sns.despine()\n",
    "# fig.legend((htl, mtl, hrl, mrl), ('f', 'b', 'c', 'd'), loc='right', frameon=True)\n",
    "plt.tight_layout()\n",
    "\n",
    "plt.savefig('plots.pdf')"
   ]
  },
  {
   "cell_type": "code",
   "execution_count": null,
   "metadata": {
    "collapsed": false
   },
   "outputs": [],
   "source": [
    "fig, ax = plt.subplots(2, 1, squeeze=True, sharex=True, figsize=(7, 8))\n",
    "plt.sca(ax[0])\n",
    "htl, = plt.plot(hpcc.index, hpcc.time, 'bo-', label='HPCC')\n",
    "mtl, = plt.plot(mac.index, mac.time, 'bs--', label='Mac Mini')\n",
    "plt.legend(loc=3)\n",
    "# plt.xlabel('Number of threads')\n",
    "plt.ylabel('Time [s]')\n",
    "plt.sca(ax[1])\n",
    "hrl, = plt.plot(hpcc.index, hpcc.rate, 'ro-', label='HPCC')\n",
    "mrl, = plt.plot(mac.index, mac.rate, 'rs--', label='Mac Mini')\n",
    "# plt.ylim(0, 56000)\n",
    "plt.legend(loc=2)\n",
    "plt.ylabel('Rate [MB/s]')\n",
    "plt.xlim(0, 17)\n",
    "# sns.despine()\n",
    "# fig.legend((htl, mtl, hrl, mrl), ('f', 'b', 'c', 'd'), loc='right', frameon=True)\n",
    "plt.tight_layout()"
   ]
  },
  {
   "cell_type": "code",
   "execution_count": null,
   "metadata": {
    "collapsed": true
   },
   "outputs": [],
   "source": []
  }
 ],
 "metadata": {
  "kernelspec": {
   "display_name": "Python 3",
   "language": "python",
   "name": "python3"
  },
  "language_info": {
   "codemirror_mode": {
    "name": "ipython",
    "version": 3
   },
   "file_extension": ".py",
   "mimetype": "text/x-python",
   "name": "python",
   "nbconvert_exporter": "python",
   "pygments_lexer": "ipython3",
   "version": "3.5.1"
  }
 },
 "nbformat": 4,
 "nbformat_minor": 0
}
