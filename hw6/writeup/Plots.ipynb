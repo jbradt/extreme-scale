{
 "cells": [
  {
   "cell_type": "code",
   "execution_count": null,
   "metadata": {
    "collapsed": true
   },
   "outputs": [],
   "source": [
    "%matplotlib inline"
   ]
  },
  {
   "cell_type": "code",
   "execution_count": null,
   "metadata": {
    "collapsed": true
   },
   "outputs": [],
   "source": [
    "import matplotlib.pyplot as plt\n",
    "import seaborn as sns\n",
    "import re\n",
    "import pandas as pd"
   ]
  },
  {
   "cell_type": "code",
   "execution_count": null,
   "metadata": {
    "collapsed": true
   },
   "outputs": [],
   "source": [
    "sns.set_color_codes()\n",
    "sns.set_style('white')"
   ]
  },
  {
   "cell_type": "code",
   "execution_count": null,
   "metadata": {
    "collapsed": true
   },
   "outputs": [],
   "source": [
    "def parse_output(f):\n",
    "    times = {}\n",
    "    rates = {}\n",
    "\n",
    "    for l in f:\n",
    "        m = re.search(r'Num threads: (\\d+)', l)\n",
    "        if m:\n",
    "            num_threads = int(m.group(1))\n",
    "            continue\n",
    "\n",
    "        m = re.search('(Mean time|Rate)\\s*=\\s(\\d+\\.\\d+e[\\+,\\-]\\d+)', l)\n",
    "        if m:\n",
    "            if m.group(1) == 'Mean time':\n",
    "                times[num_threads] = float(m.group(2))\n",
    "            elif m.group(1) == 'Rate':\n",
    "                rates[num_threads] = float(m.group(2))\n",
    "        continue\n",
    "\n",
    "    times = pd.Series(times, name='time')\n",
    "    rates = pd.Series(rates, name='rate')\n",
    "    \n",
    "    return pd.concat((times, rates), axis=1)"
   ]
  },
  {
   "cell_type": "code",
   "execution_count": null,
   "metadata": {
    "collapsed": false
   },
   "outputs": [],
   "source": [
    "with open('result.txt') as f:\n",
    "    res = parse_output(f)"
   ]
  },
  {
   "cell_type": "code",
   "execution_count": null,
   "metadata": {
    "collapsed": false
   },
   "outputs": [],
   "source": [
    "res"
   ]
  },
  {
   "cell_type": "code",
   "execution_count": null,
   "metadata": {
    "collapsed": false
   },
   "outputs": [],
   "source": [
    "# fig, ax = plt.subplots(2, 1, squeeze=True, sharex=True)\n",
    "# plt.sca(ax[0])\n",
    "tl = plt.plot(res.index, res.time, 'bo-')\n",
    "plt.xlabel('Number of threads')\n",
    "plt.ylabel('Time [s]')\n",
    "# plt.sca(ax[1])\n",
    "plt.sca(plt.twinx(plt.gca()))\n",
    "rl = plt.plot(res.index, res.rate, 'rs-')\n",
    "plt.ylabel('Rate [MB/s]')\n",
    "\n",
    "plt.xlim(0, 17)\n",
    "\n",
    "plt.legend((tl[0], rl[0]), ('Time', 'Rate'), loc=5)"
   ]
  },
  {
   "cell_type": "code",
   "execution_count": null,
   "metadata": {
    "collapsed": true
   },
   "outputs": [],
   "source": []
  }
 ],
 "metadata": {
  "kernelspec": {
   "display_name": "Python 3",
   "language": "python",
   "name": "python3"
  },
  "language_info": {
   "codemirror_mode": {
    "name": "ipython",
    "version": 3
   },
   "file_extension": ".py",
   "mimetype": "text/x-python",
   "name": "python",
   "nbconvert_exporter": "python",
   "pygments_lexer": "ipython3",
   "version": "3.5.1"
  }
 },
 "nbformat": 4,
 "nbformat_minor": 0
}
