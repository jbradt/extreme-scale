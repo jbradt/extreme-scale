{
 "cells": [
  {
   "cell_type": "code",
   "execution_count": null,
   "metadata": {
    "collapsed": true
   },
   "outputs": [],
   "source": [
    "%matplotlib inline"
   ]
  },
  {
   "cell_type": "code",
   "execution_count": null,
   "metadata": {
    "collapsed": true
   },
   "outputs": [],
   "source": [
    "import matplotlib.pyplot as plt\n",
    "from mpl_toolkits.mplot3d import Axes3D\n",
    "import numpy as np\n",
    "import pandas as pd\n",
    "import seaborn as sns\n",
    "import re\n",
    "import sys"
   ]
  },
  {
   "cell_type": "code",
   "execution_count": null,
   "metadata": {
    "collapsed": true
   },
   "outputs": [],
   "source": [
    "sns.set_context('paper')\n",
    "sns.set_color_codes()\n",
    "sns.set_style('ticks')"
   ]
  },
  {
   "cell_type": "code",
   "execution_count": null,
   "metadata": {
    "collapsed": true
   },
   "outputs": [],
   "source": [
    "sys.path.append('../../../ar40-aug15/notebooks/')"
   ]
  },
  {
   "cell_type": "code",
   "execution_count": null,
   "metadata": {
    "collapsed": true
   },
   "outputs": [],
   "source": [
    "import cmaps"
   ]
  },
  {
   "cell_type": "code",
   "execution_count": null,
   "metadata": {
    "collapsed": false
   },
   "outputs": [],
   "source": [
    "def parse_output(fp):\n",
    "    times = []\n",
    "    perfs = []\n",
    "    with open(fp) as f:\n",
    "        for l in f:\n",
    "            m = re.match(r'N=(\\d+) TH=(\\d+)', l)\n",
    "            if m:\n",
    "                N = m.group(1)\n",
    "                num_threads = m.group(2)\n",
    "\n",
    "            m = re.match(r'Seconds: (\\d\\.\\d+e[\\+,\\-]\\d+)\\s*(\\d\\.\\d+e[\\+,\\-]\\d+)\\s*(\\d\\.\\d+e[\\+,\\-]\\d+)', l)\n",
    "            if m:\n",
    "                times.append([float(x) for x in (N, num_threads, m.group(1), m.group(2), m.group(3))])\n",
    "\n",
    "            m = re.match(r'FLOPS: (\\d\\.\\d+e[\\+,\\-]\\d+)\\s*(\\d\\.\\d+e[\\+,\\-]\\d+)\\s*(\\d\\.\\d+e[\\+,\\-]\\d+)', l)\n",
    "            if m:\n",
    "                perfs.append([float(x) for x in (N, num_threads, m.group(1), m.group(2), m.group(3))])\n",
    "\n",
    "    timesdf = pd.DataFrame(times, columns=('N', 'num_threads', 'min_time', 'mean_time', 'max_time'))\n",
    "    perfsdf = pd.DataFrame(perfs, columns=('N', 'num_threads', 'min_perf', 'mean_perf', 'max_perf'))\n",
    "    return pd.merge(timesdf, perfsdf, on=('N', 'num_threads'))"
   ]
  },
  {
   "cell_type": "code",
   "execution_count": null,
   "metadata": {
    "collapsed": false
   },
   "outputs": [],
   "source": [
    "macres = parse_output('../outputs/mac_output.txt')\n",
    "hpccres = parse_output('../outputs/hpcc-results.txt')"
   ]
  },
  {
   "cell_type": "code",
   "execution_count": null,
   "metadata": {
    "collapsed": false
   },
   "outputs": [],
   "source": [
    "def model(xs, n):\n",
    "    return (2/2.5e9 + 1.6e-9)*xs**3 / max(n, 1)\n",
    "\n",
    "xs = np.logspace(1, 4, 100)\n",
    "\n",
    "plt.figure(figsize=(4, 2.8))\n",
    "\n",
    "d = hpccres[hpccres.num_threads == 0]\n",
    "plt.plot(d.N, d.min_time, 'bo', label='No OpenMP (Data)')\n",
    "plt.plot(xs, model(xs, 0), 'b-', label='No OpenMP (Model)')\n",
    "\n",
    "d = hpccres[hpccres.num_threads == 4]\n",
    "plt.plot(d.N, d.min_time, 'rs', label='4 threads (Data)')\n",
    "plt.plot(xs, model(xs, 4), 'r--', label='4 threads (Model)')\n",
    "\n",
    "d = hpccres[hpccres.num_threads == 20]\n",
    "plt.plot(d.N, d.min_time, 'g^', label='20 threads (Data)')\n",
    "plt.plot(xs, model(xs, 20), 'g-.', label='20 threads (Model)')\n",
    "\n",
    "plt.loglog()\n",
    "plt.legend(loc=2)\n",
    "sns.despine()\n",
    "plt.xlabel('Dimension of matrix')\n",
    "plt.ylabel('Time [s]')\n",
    "\n",
    "plt.text(0.9, 0.1, r'$t \\sim (2c+r)N_{pts}^3 / N_{threads}$', \n",
    "         transform=plt.gca().transAxes, ha='right', va='bottom')\n",
    "plt.savefig('dim_v_time.pdf', bbox_inches='tight')"
   ]
  },
  {
   "cell_type": "code",
   "execution_count": null,
   "metadata": {
    "collapsed": false
   },
   "outputs": [],
   "source": [
    "with sns.axes_style('ticks'):\n",
    "    d1 = hpccres[hpccres.N == 20]\n",
    "    d2 = hpccres[hpccres.N == 100]\n",
    "    d3 = hpccres[hpccres.N == 2000]\n",
    "\n",
    "    fig, ax = plt.subplots(3, 1, squeeze=True, figsize=(3, 5.5), sharex=True)\n",
    "\n",
    "    for a in ax:\n",
    "        a.ticklabel_format(format='sci', scilimits=(0, 0), axis='y')\n",
    "#         a.grid(axis='y')\n",
    "        a.set_ylabel('Time [s]')\n",
    "\n",
    "    ax[0].plot(d1.num_threads, d1.min_time, 'o-')\n",
    "    ax[0].set_title(\"N = 20\")\n",
    "    ax[1].plot(d2.num_threads, d2.min_time, 'o-')\n",
    "    ax[1].set_title(\"N = 100\")\n",
    "    ax[2].plot(d3.num_threads, d3.min_time, 'o-')\n",
    "    ax[2].set_title(\"N = 2000\")\n",
    "\n",
    "    ax[2].set_xlabel('Number of threads')\n",
    "\n",
    "    plt.xlim(-1, 21)\n",
    "    sns.despine()\n",
    "    \n",
    "    plt.tight_layout()\n",
    "    plt.savefig('th_v_time.pdf')"
   ]
  },
  {
   "cell_type": "code",
   "execution_count": null,
   "metadata": {
    "collapsed": true
   },
   "outputs": [],
   "source": [
    "sns.set_context('notebook')"
   ]
  },
  {
   "cell_type": "code",
   "execution_count": null,
   "metadata": {
    "collapsed": false
   },
   "outputs": [],
   "source": [
    "with sns.axes_style('white'):\n",
    "    fig = plt.figure()\n",
    "    ax = fig.add_subplot(111, projection='3d')\n",
    "    m = ax.plot_trisurf(hpccres.N, hpccres.num_threads, np.log10(hpccres.min_time), cmap=cmaps.viridis)\n",
    "    ax.view_init(30, 140)\n",
    "    ax.set_xlabel('Dimension of matrix')\n",
    "    ax.set_ylabel('Number of threads')\n",
    "    ax.set_zlabel('log(time)')\n",
    "    plt.tight_layout()\n",
    "    plt.savefig('3d.pdf', bbox_inches='tight')"
   ]
  },
  {
   "cell_type": "code",
   "execution_count": null,
   "metadata": {
    "collapsed": true
   },
   "outputs": [],
   "source": []
  }
 ],
 "metadata": {
  "kernelspec": {
   "display_name": "Python 3",
   "language": "python",
   "name": "python3"
  },
  "language_info": {
   "codemirror_mode": {
    "name": "ipython",
    "version": 3
   },
   "file_extension": ".py",
   "mimetype": "text/x-python",
   "name": "python",
   "nbconvert_exporter": "python",
   "pygments_lexer": "ipython3",
   "version": "3.5.1"
  }
 },
 "nbformat": 4,
 "nbformat_minor": 0
}
