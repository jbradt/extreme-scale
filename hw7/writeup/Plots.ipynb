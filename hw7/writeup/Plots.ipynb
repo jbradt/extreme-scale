{
 "cells": [
  {
   "cell_type": "code",
   "execution_count": null,
   "metadata": {
    "collapsed": true
   },
   "outputs": [],
   "source": [
    "%matplotlib inline"
   ]
  },
  {
   "cell_type": "code",
   "execution_count": null,
   "metadata": {
    "collapsed": true
   },
   "outputs": [],
   "source": [
    "import matplotlib.pyplot as plt\n",
    "import numpy as np\n",
    "import pandas as pd\n",
    "import seaborn as sns\n",
    "import re"
   ]
  },
  {
   "cell_type": "code",
   "execution_count": null,
   "metadata": {
    "collapsed": false
   },
   "outputs": [],
   "source": [
    "def parse_output(fp):\n",
    "    times = []\n",
    "    perfs = []\n",
    "    with open(fp) as f:\n",
    "        for l in f:\n",
    "            m = re.match(r'N=(\\d+) TH=(\\d+)', l)\n",
    "            if m:\n",
    "                N = m.group(1)\n",
    "                num_threads = m.group(2)\n",
    "\n",
    "            m = re.match(r'Seconds: (\\d\\.\\d+e[\\+,\\-]\\d+)\\s*(\\d\\.\\d+e[\\+,\\-]\\d+)\\s*(\\d\\.\\d+e[\\+,\\-]\\d+)', l)\n",
    "            if m:\n",
    "                times.append([float(x) for x in (N, num_threads, m.group(1), m.group(2), m.group(3))])\n",
    "\n",
    "            m = re.match(r'FLOPS: (\\d\\.\\d+e[\\+,\\-]\\d+)\\s*(\\d\\.\\d+e[\\+,\\-]\\d+)\\s*(\\d\\.\\d+e[\\+,\\-]\\d+)', l)\n",
    "            if m:\n",
    "                perfs.append([float(x) for x in (N, num_threads, m.group(1), m.group(2), m.group(3))])\n",
    "\n",
    "    timesdf = pd.DataFrame(times, columns=('N', 'num_threads', 'min_time', 'mean_time', 'max_time'))\n",
    "    perfsdf = pd.DataFrame(perfs, columns=('N', 'num_threads', 'min_perf', 'mean_perf', 'max_perf'))\n",
    "    return pd.merge(timesdf, perfsdf, on=('N', 'num_threads'))"
   ]
  },
  {
   "cell_type": "code",
   "execution_count": null,
   "metadata": {
    "collapsed": false
   },
   "outputs": [],
   "source": [
    "macres = parse_output('mac_output.txt')"
   ]
  },
  {
   "cell_type": "code",
   "execution_count": null,
   "metadata": {
    "collapsed": false
   },
   "outputs": [],
   "source": [
    "for N in macres.N.unique():\n",
    "    d = macres[macres.N == N]\n",
    "    plt.plot(d.num_threads, d.min_time, 'o-')\n",
    "    plt.semilogy()"
   ]
  },
  {
   "cell_type": "code",
   "execution_count": null,
   "metadata": {
    "collapsed": false
   },
   "outputs": [],
   "source": [
    "d = macres[macres.N == 1000]\n",
    "plt.plot(d.num_threads, d.min_time, 'o-')"
   ]
  },
  {
   "cell_type": "code",
   "execution_count": null,
   "metadata": {
    "collapsed": true
   },
   "outputs": [],
   "source": []
  }
 ],
 "metadata": {
  "kernelspec": {
   "display_name": "Python 3",
   "language": "python",
   "name": "python3"
  },
  "language_info": {
   "codemirror_mode": {
    "name": "ipython",
    "version": 3
   },
   "file_extension": ".py",
   "mimetype": "text/x-python",
   "name": "python",
   "nbconvert_exporter": "python",
   "pygments_lexer": "ipython3",
   "version": "3.5.1"
  }
 },
 "nbformat": 4,
 "nbformat_minor": 0
}
