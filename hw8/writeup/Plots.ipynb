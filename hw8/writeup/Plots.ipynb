{
 "cells": [
  {
   "cell_type": "code",
   "execution_count": null,
   "metadata": {
    "collapsed": true
   },
   "outputs": [],
   "source": [
    "%matplotlib inline"
   ]
  },
  {
   "cell_type": "code",
   "execution_count": null,
   "metadata": {
    "collapsed": false
   },
   "outputs": [],
   "source": [
    "import numpy as np\n",
    "import pandas as pd\n",
    "import matplotlib.pyplot as plt\n",
    "import seaborn as sns"
   ]
  },
  {
   "cell_type": "code",
   "execution_count": null,
   "metadata": {
    "collapsed": true
   },
   "outputs": [],
   "source": [
    "sns.set_style('ticks')\n",
    "sns.set_color_codes()\n",
    "sns.set_context('paper')"
   ]
  },
  {
   "cell_type": "code",
   "execution_count": null,
   "metadata": {
    "collapsed": false
   },
   "outputs": [],
   "source": [
    "hpccres = pd.read_table('../outputs/hpcc_4_1_2.tsv', sep='\\t')\n",
    "bwres = pd.read_table('../outputs/bw_32_1.tsv', sep='\\t')"
   ]
  },
  {
   "cell_type": "code",
   "execution_count": null,
   "metadata": {
    "collapsed": false
   },
   "outputs": [],
   "source": [
    "hpccres.head()"
   ]
  },
  {
   "cell_type": "code",
   "execution_count": null,
   "metadata": {
    "collapsed": true
   },
   "outputs": [],
   "source": [
    "def label_things(data):\n",
    "    data.loc[(data.i == 0) & (data.j == 1), 'nodes'] = 'neighbors'\n",
    "    data.loc[(data.i == 0) & (data.j == data.j.max()), 'nodes'] = 'corners'\n",
    "    data.loc[(data.i == 2) & (data.j == 3), 'nodes'] = 'even-odd'\n",
    "    data['label'] = data.nodes + ' / ' + data.test\n",
    "    return data"
   ]
  },
  {
   "cell_type": "code",
   "execution_count": null,
   "metadata": {
    "collapsed": true
   },
   "outputs": [],
   "source": [
    "hpccres = label_things(hpccres)\n",
    "bwres = label_things(bwres)"
   ]
  },
  {
   "cell_type": "code",
   "execution_count": null,
   "metadata": {
    "collapsed": false
   },
   "outputs": [],
   "source": [
    "fg = sns.FacetGrid(hpccres, hue='label', size=10)\n",
    "fg.map(plt.plot, 'm', 'time')\n",
    "fg.add_legend()\n",
    "plt.loglog(basex=2)"
   ]
  },
  {
   "cell_type": "code",
   "execution_count": null,
   "metadata": {
    "collapsed": false
   },
   "outputs": [],
   "source": [
    "sns.palplot(sns.color_palette('husl', 9))"
   ]
  },
  {
   "cell_type": "code",
   "execution_count": null,
   "metadata": {
    "collapsed": false
   },
   "outputs": [],
   "source": [
    "with sns.color_palette('husl', 9):\n",
    "    for l in bwres.label.unique():\n",
    "        d = bwres[bwres.label == l]\n",
    "        linestyle = '--' if all(d.test == 'h2h') else '-'\n",
    "        plt.plot(d.m, d.time, linestyle, label=l)\n",
    "\n",
    "    plt.legend(loc=2, ncol=2)\n",
    "    plt.loglog(basex=2)"
   ]
  },
  {
   "cell_type": "code",
   "execution_count": null,
   "metadata": {
    "collapsed": false
   },
   "outputs": [],
   "source": [
    "fg = sns.FacetGrid(bwres, hue='label', size=10)\n",
    "fg.map(plt.plot, 'm', 'time')\n",
    "fg.add_legend()\n",
    "# plt.xlim(0, 2**12)\n",
    "# plt.ylim(0, 0.00002)\n",
    "# plt.loglog(basex=2)"
   ]
  },
  {
   "cell_type": "code",
   "execution_count": null,
   "metadata": {
    "collapsed": false
   },
   "outputs": [],
   "source": [
    "fg = sns.FacetGrid(bwres, hue='nodes', col='test', size=7/3,\n",
    "                   hue_kws={'linestyle': ('-', '--', '-.'), 'marker': ('o', 's', '^'),\n",
    "                            'markersize': [4] * 3})\n",
    "fg.map(plt.plot, 'm', 'time')\n",
    "fg.set_axis_labels('Message size [B]', 'Time [s]')\n",
    "fg.add_legend()\n",
    "plt.loglog(basex=2)\n",
    "plt.savefig('databytest.pdf')"
   ]
  },
  {
   "cell_type": "code",
   "execution_count": null,
   "metadata": {
    "collapsed": false
   },
   "outputs": [],
   "source": [
    "fg = sns.FacetGrid(bwres, col='nodes', hue='test', size=6/3, \n",
    "                   hue_kws={'linestyle': ('-', '--', '-.')})#, 'marker': ('o', 's', '^')})\n",
    "fg.map(plt.plot, 'm', 'time')\n",
    "fg.set_axis_labels('Message size [B]', 'Time [s]')\n",
    "fg.add_legend()\n",
    "plt.loglog(basex=2)\n",
    "plt.savefig('databynodes.pdf')"
   ]
  },
  {
   "cell_type": "code",
   "execution_count": null,
   "metadata": {
    "collapsed": false
   },
   "outputs": [],
   "source": [
    "from scipy.optimize import curve_fit\n",
    "\n",
    "def line(n, s, r):\n",
    "    return s + r*n "
   ]
  },
  {
   "cell_type": "code",
   "execution_count": null,
   "metadata": {
    "collapsed": true
   },
   "outputs": [],
   "source": [
    "fitdata = bwres[(bwres.nodes == 'neighbors') & (bwres.test == 'ppb')]\n",
    "sub1 = fitdata[(fitdata.m < 2**13) & (fitdata.m > 0)]\n",
    "sub2 = fitdata[(fitdata.m >= 2**13)]\n",
    "\n",
    "f1param, f1cov = curve_fit(line, sub1.m, sub1.time)\n",
    "f2param, f2cov = curve_fit(line, sub2.m, sub2.time)"
   ]
  },
  {
   "cell_type": "code",
   "execution_count": null,
   "metadata": {
    "collapsed": false
   },
   "outputs": [],
   "source": [
    "plt.figure(figsize=(4, 2.8))\n",
    "plt.plot(sub1.m, sub1.time, 'bo', label='Small data')\n",
    "plt.plot(sub1.m, line(sub1.m, *f1param), 'b-', label='Small fit')\n",
    "\n",
    "plt.plot(sub2.m, sub2.time, 'rs', label='Large data')\n",
    "plt.plot(sub2.m, line(sub2.m, *f2param), 'r--', label='Large fit')\n",
    "plt.loglog(basex=2)\n",
    "sns.despine()\n",
    "plt.xlim(2, 2**19)\n",
    "plt.legend(loc=2)\n",
    "plt.xlabel('Message size [B]')\n",
    "plt.ylabel('Time [s]')\n",
    "plt.tight_layout()\n",
    "plt.savefig('fitresults.pdf')"
   ]
  },
  {
   "cell_type": "code",
   "execution_count": null,
   "metadata": {
    "collapsed": false
   },
   "outputs": [],
   "source": [
    "f1param, f2param"
   ]
  },
  {
   "cell_type": "code",
   "execution_count": null,
   "metadata": {
    "collapsed": false
   },
   "outputs": [],
   "source": [
    "fitdata.m.max()"
   ]
  }
 ],
 "metadata": {
  "kernelspec": {
   "display_name": "Python 3",
   "language": "python",
   "name": "python3"
  },
  "language_info": {
   "codemirror_mode": {
    "name": "ipython",
    "version": 3
   },
   "file_extension": ".py",
   "mimetype": "text/x-python",
   "name": "python",
   "nbconvert_exporter": "python",
   "pygments_lexer": "ipython3",
   "version": "3.5.1"
  }
 },
 "nbformat": 4,
 "nbformat_minor": 0
}
