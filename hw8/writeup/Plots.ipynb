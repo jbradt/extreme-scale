{
 "cells": [
  {
   "cell_type": "code",
   "execution_count": null,
   "metadata": {
    "collapsed": true
   },
   "outputs": [],
   "source": [
    "%matplotlib inline"
   ]
  },
  {
   "cell_type": "code",
   "execution_count": null,
   "metadata": {
    "collapsed": true
   },
   "outputs": [],
   "source": [
    "import numpy as np\n",
    "import pandas as pd\n",
    "import matplotlib.pyplot as plt\n",
    "import seaborn as sns"
   ]
  },
  {
   "cell_type": "code",
   "execution_count": null,
   "metadata": {
    "collapsed": false
   },
   "outputs": [],
   "source": [
    "hpccres = pd.read_table('../outputs/hpcc_4_1_2.tsv', sep='\\t')\n",
    "bwres = pd.read_table('../outputs/bw_32_1.tsv', sep='\\t')"
   ]
  },
  {
   "cell_type": "code",
   "execution_count": null,
   "metadata": {
    "collapsed": false
   },
   "outputs": [],
   "source": [
    "hpccres.head()"
   ]
  },
  {
   "cell_type": "code",
   "execution_count": null,
   "metadata": {
    "collapsed": true
   },
   "outputs": [],
   "source": [
    "def label_things(data):\n",
    "    data.loc[(data.i == 0) & (data.j == 1), 'nodes'] = 'neighbors'\n",
    "    data.loc[(data.i == 0) & (data.j == data.j.max()), 'nodes'] = 'corners'\n",
    "    data.loc[(data.i == 2) & (data.j == 3), 'nodes'] = 'even-odd'\n",
    "    data['label'] = data.nodes + ' / ' + data.test\n",
    "    return data"
   ]
  },
  {
   "cell_type": "code",
   "execution_count": null,
   "metadata": {
    "collapsed": true
   },
   "outputs": [],
   "source": [
    "hpccres = label_things(hpccres)\n",
    "bwres = label_things(bwres)"
   ]
  },
  {
   "cell_type": "code",
   "execution_count": null,
   "metadata": {
    "collapsed": false
   },
   "outputs": [],
   "source": [
    "fg = sns.FacetGrid(hpccres, hue='label', size=10)\n",
    "fg.map(plt.plot, 'm', 'time')\n",
    "fg.add_legend()\n",
    "plt.loglog(basex=2)"
   ]
  },
  {
   "cell_type": "code",
   "execution_count": null,
   "metadata": {
    "collapsed": false
   },
   "outputs": [],
   "source": [
    "fg = sns.FacetGrid(bwres, hue='label', size=10)\n",
    "fg.map(plt.plot, 'm', 'time')\n",
    "fg.add_legend()\n",
    "plt.xlim(0, 2**12)\n",
    "plt.ylim(0, 0.00002)\n",
    "# plt.loglog(basex=2)"
   ]
  },
  {
   "cell_type": "code",
   "execution_count": null,
   "metadata": {
    "collapsed": false
   },
   "outputs": [],
   "source": [
    "fg = sns.FacetGrid(hpccres, hue='nodes', col='test', size=4)\n",
    "fg.map(plt.plot, 'm', 'time')\n",
    "fg.add_legend()\n",
    "plt.loglog(basex=2)"
   ]
  },
  {
   "cell_type": "code",
   "execution_count": null,
   "metadata": {
    "collapsed": false
   },
   "outputs": [],
   "source": [
    "fg = sns.FacetGrid(hpccres, col='nodes', hue='test', size=4)\n",
    "fg.map(plt.plot, 'm', 'time')\n",
    "fg.add_legend()\n",
    "plt.loglog(basex=2)"
   ]
  },
  {
   "cell_type": "code",
   "execution_count": null,
   "metadata": {
    "collapsed": false
   },
   "outputs": [],
   "source": [
    "fg = sns.FacetGrid(bwres, hue='nodes', col='test', size=4)\n",
    "fg.map(plt.plot, 'm', 'time')\n",
    "fg.add_legend()\n",
    "plt.loglog(basex=2)"
   ]
  },
  {
   "cell_type": "code",
   "execution_count": null,
   "metadata": {
    "collapsed": false
   },
   "outputs": [],
   "source": [
    "fg = sns.FacetGrid(bwres, col='nodes', hue='test', size=4)\n",
    "fg.map(plt.plot, 'm', 'time')\n",
    "fg.add_legend()\n",
    "# plt.loglog(basex=2)"
   ]
  },
  {
   "cell_type": "code",
   "execution_count": null,
   "metadata": {
    "collapsed": false
   },
   "outputs": [],
   "source": [
    "2**12"
   ]
  },
  {
   "cell_type": "code",
   "execution_count": null,
   "metadata": {
    "collapsed": false
   },
   "outputs": [],
   "source": [
    "2**13"
   ]
  },
  {
   "cell_type": "code",
   "execution_count": null,
   "metadata": {
    "collapsed": true
   },
   "outputs": [],
   "source": []
  }
 ],
 "metadata": {
  "kernelspec": {
   "display_name": "Python 3",
   "language": "python",
   "name": "python3"
  },
  "language_info": {
   "codemirror_mode": {
    "name": "ipython",
    "version": 3
   },
   "file_extension": ".py",
   "mimetype": "text/x-python",
   "name": "python",
   "nbconvert_exporter": "python",
   "pygments_lexer": "ipython3",
   "version": "3.5.1"
  }
 },
 "nbformat": 4,
 "nbformat_minor": 0
}
