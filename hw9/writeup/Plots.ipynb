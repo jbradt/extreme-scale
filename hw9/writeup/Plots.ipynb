{
 "cells": [
  {
   "cell_type": "code",
   "execution_count": null,
   "metadata": {
    "collapsed": true
   },
   "outputs": [],
   "source": [
    "%matplotlib inline"
   ]
  },
  {
   "cell_type": "code",
   "execution_count": null,
   "metadata": {
    "collapsed": false
   },
   "outputs": [],
   "source": [
    "import matplotlib.pyplot as plt\n",
    "import seaborn as sns\n",
    "import numpy as np\n",
    "import pandas as pd"
   ]
  },
  {
   "cell_type": "code",
   "execution_count": null,
   "metadata": {
    "collapsed": true
   },
   "outputs": [],
   "source": [
    "sns.set_style('ticks')\n",
    "sns.set_context('paper')"
   ]
  },
  {
   "cell_type": "code",
   "execution_count": null,
   "metadata": {
    "collapsed": false
   },
   "outputs": [],
   "source": [
    "res = pd.read_csv('../outputs/bluewaters.csv')"
   ]
  },
  {
   "cell_type": "code",
   "execution_count": null,
   "metadata": {
    "collapsed": false
   },
   "outputs": [],
   "source": [
    "res['nproc'] = res.matsize / res.chunksize"
   ]
  },
  {
   "cell_type": "code",
   "execution_count": null,
   "metadata": {
    "collapsed": false
   },
   "outputs": [],
   "source": [
    "res"
   ]
  },
  {
   "cell_type": "code",
   "execution_count": null,
   "metadata": {
    "collapsed": false
   },
   "outputs": [],
   "source": [
    "for i in res.groupby('matsize'):\n",
    "    print(i)"
   ]
  },
  {
   "cell_type": "code",
   "execution_count": null,
   "metadata": {
    "collapsed": true
   },
   "outputs": [],
   "source": [
    "from itertools import cycle"
   ]
  },
  {
   "cell_type": "code",
   "execution_count": null,
   "metadata": {
    "collapsed": false
   },
   "outputs": [],
   "source": [
    "sns.palplot(sns.color_palette('Set1', 9, desat=0.6))"
   ]
  },
  {
   "cell_type": "code",
   "execution_count": null,
   "metadata": {
    "collapsed": false
   },
   "outputs": [],
   "source": [
    "shapes = cycle(('o', 's', '^', 'v', '<', 'D'))\n",
    "\n",
    "with sns.color_palette('Paired'):\n",
    "    for i, (m, df) in enumerate(res.groupby('matsize')):\n",
    "        plt.plot(df.nproc, df.agtime, marker=next(shapes), label='M={}, AG'.format(m))\n",
    "        plt.plot(df.nproc, df.ringtime, marker=next(shapes), linestyle='--', label='M={}, Ring'.format(m))\n",
    "\n",
    "    plt.semilogy()\n",
    "    \n",
    "    sns.despine()\n",
    "#     plt.grid(which='both')\n",
    "    \n",
    "    plt.legend(loc=8, ncol=3)"
   ]
  },
  {
   "cell_type": "code",
   "execution_count": null,
   "metadata": {
    "collapsed": false
   },
   "outputs": [],
   "source": [
    "shapes = cycle(('o', 's', '^', 'v', '<', 'D'))\n",
    "\n",
    "plt.figure(figsize=(345/72, 345/72*0.7))\n",
    "\n",
    "with sns.color_palette('Paired', 8):\n",
    "    for i, (m, df) in enumerate(res.groupby('nproc')):\n",
    "        plt.plot(df.matsize, df.agtime, marker=next(shapes), label='p={:.0f}, AG'.format(m))\n",
    "        plt.plot(df.matsize, df.ringtime, marker=next(shapes), linestyle='--', label='p={:.0f}, Ring'.format(m))\n",
    "\n",
    "    plt.loglog(basex=2)\n",
    "    \n",
    "    sns.despine()\n",
    "#     plt.grid(which='both')\n",
    "    \n",
    "    plt.legend(loc=2, ncol=2)\n",
    "    plt.xlabel('Matrix size')\n",
    "    plt.ylabel('Time [s]')\n",
    "    \n",
    "    plt.tight_layout()\n",
    "    plt.savefig('data.pdf')"
   ]
  },
  {
   "cell_type": "code",
   "execution_count": null,
   "metadata": {
    "collapsed": false
   },
   "outputs": [],
   "source": [
    "plt.figure(figsize=(345/72, 345/72*0.7))\n",
    "\n",
    "with sns.color_palette('Paired', 9):\n",
    "    xs = np.logspace(10, 17, base=2)\n",
    "    for p in res.nproc.unique():\n",
    "        plt.plot(xs, ag_model(xs, p), label='p={:.0f}, AG'.format(p))\n",
    "        plt.plot(xs, [ring_model(m, p) for m in xs], '--', label='p={:.0f}, Ring'.format(p))\n",
    "\n",
    "    plt.loglog(basex=2)\n",
    "    \n",
    "    sns.despine()\n",
    "    plt.legend(loc=2, ncol=2)\n",
    "    \n",
    "    plt.xlabel('Matrix size')\n",
    "    plt.ylabel('Time [s]')\n",
    "    \n",
    "    plt.tight_layout()\n",
    "    plt.savefig('model.pdf')"
   ]
  },
  {
   "cell_type": "code",
   "execution_count": null,
   "metadata": {
    "collapsed": false
   },
   "outputs": [],
   "source": [
    "with sns.color_palette('Paired', 9):\n",
    "    xs = np.logspace(7, 10, base=2)\n",
    "    for m in res.matsize.unique():\n",
    "        plt.plot(xs, ag_model(m, xs))\n",
    "        plt.plot(xs, [ring_model(m, p) for p in xs], '--')\n",
    "\n",
    "    plt.loglog(basex=2)\n",
    "#     plt.semilogy()"
   ]
  },
  {
   "cell_type": "code",
   "execution_count": null,
   "metadata": {
    "collapsed": true
   },
   "outputs": [],
   "source": [
    "def compute_time(m, p, r=7.8e-11, c=5.1e-11):\n",
    "    return 2*m**2 / p * (r+c) + 2 * m * r\n",
    "\n",
    "def net_time(m, p, r=6.8e-10):\n",
    "    return r * 8 * m / p\n",
    "\n",
    "def ag_model(m, p):\n",
    "    return net_time(m, p) * p + compute_time(m, p)\n",
    "\n",
    "def ring_model(m, p):\n",
    "    return max(p * net_time(m, p), compute_time(m, p))"
   ]
  },
  {
   "cell_type": "code",
   "execution_count": null,
   "metadata": {
    "collapsed": false
   },
   "outputs": [],
   "source": [
    "compute_time(102400, 512)"
   ]
  },
  {
   "cell_type": "code",
   "execution_count": null,
   "metadata": {
    "collapsed": false
   },
   "outputs": [],
   "source": [
    "net_time(102400, 512)"
   ]
  },
  {
   "cell_type": "code",
   "execution_count": null,
   "metadata": {
    "collapsed": true
   },
   "outputs": [],
   "source": [
    "xs = np."
   ]
  }
 ],
 "metadata": {
  "kernelspec": {
   "display_name": "Python 3",
   "language": "python",
   "name": "python3"
  },
  "language_info": {
   "codemirror_mode": {
    "name": "ipython",
    "version": 3
   },
   "file_extension": ".py",
   "mimetype": "text/x-python",
   "name": "python",
   "nbconvert_exporter": "python",
   "pygments_lexer": "ipython3",
   "version": "3.5.1"
  }
 },
 "nbformat": 4,
 "nbformat_minor": 0
}
