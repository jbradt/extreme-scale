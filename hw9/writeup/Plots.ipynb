{
 "cells": [
  {
   "cell_type": "code",
   "execution_count": null,
   "metadata": {
    "collapsed": true
   },
   "outputs": [],
   "source": [
    "%matplotlib inline"
   ]
  },
  {
   "cell_type": "code",
   "execution_count": null,
   "metadata": {
    "collapsed": false
   },
   "outputs": [],
   "source": [
    "import matplotlib.pyplot as plt\n",
    "import seaborn as sns\n",
    "import numpy as np\n",
    "import pandas as pd"
   ]
  },
  {
   "cell_type": "code",
   "execution_count": null,
   "metadata": {
    "collapsed": true
   },
   "outputs": [],
   "source": [
    "sns.set_style('ticks')"
   ]
  },
  {
   "cell_type": "code",
   "execution_count": null,
   "metadata": {
    "collapsed": false
   },
   "outputs": [],
   "source": [
    "res = pd.read_csv('../outputs/bluewaters.csv')"
   ]
  },
  {
   "cell_type": "code",
   "execution_count": null,
   "metadata": {
    "collapsed": false
   },
   "outputs": [],
   "source": [
    "res['nproc'] = res.matsize / res.chunksize"
   ]
  },
  {
   "cell_type": "code",
   "execution_count": null,
   "metadata": {
    "collapsed": false
   },
   "outputs": [],
   "source": [
    "res.head()"
   ]
  },
  {
   "cell_type": "code",
   "execution_count": null,
   "metadata": {
    "collapsed": false
   },
   "outputs": [],
   "source": [
    "for i in res.groupby('matsize'):\n",
    "    print(i)"
   ]
  },
  {
   "cell_type": "code",
   "execution_count": null,
   "metadata": {
    "collapsed": true
   },
   "outputs": [],
   "source": [
    "from itertools import cycle"
   ]
  },
  {
   "cell_type": "code",
   "execution_count": null,
   "metadata": {
    "collapsed": false
   },
   "outputs": [],
   "source": [
    "sns.palplot(sns.color_palette('Set1', 9, desat=0.6))"
   ]
  },
  {
   "cell_type": "code",
   "execution_count": null,
   "metadata": {
    "collapsed": false
   },
   "outputs": [],
   "source": [
    "shapes = cycle(('o', 's', '^', 'v', '<', 'D'))\n",
    "\n",
    "with sns.color_palette('Paired'):\n",
    "    for i, (m, df) in enumerate(res.groupby('matsize')):\n",
    "        plt.plot(df.nproc, df.agtime, marker=next(shapes), label='M={}, AG'.format(m))\n",
    "        plt.plot(df.nproc, df.ringtime, marker=next(shapes), linestyle='--', label='M={}, Ring'.format(m))\n",
    "\n",
    "    plt.semilogy()\n",
    "    \n",
    "    sns.despine()\n",
    "#     plt.grid(which='both')\n",
    "    \n",
    "    plt.legend(loc=8, ncol=3)"
   ]
  },
  {
   "cell_type": "code",
   "execution_count": null,
   "metadata": {
    "collapsed": false
   },
   "outputs": [],
   "source": [
    "shapes = cycle(('o', 's', '^', 'v', '<', 'D'))\n",
    "\n",
    "with sns.color_palette('Paired', 8):\n",
    "    for i, (m, df) in enumerate(res.groupby('nproc')):\n",
    "        plt.plot(df.matsize, df.agtime, marker=next(shapes), label='np={:.0f}, AG'.format(m))\n",
    "        plt.plot(df.matsize, df.ringtime, marker=next(shapes), linestyle='--', label='np={:.0f}, Ring'.format(m))\n",
    "\n",
    "    plt.loglog(basex=2)\n",
    "    \n",
    "    sns.despine()\n",
    "#     plt.grid(which='both')\n",
    "    \n",
    "    plt.legend(loc=8, ncol=2)\n",
    "    plt.xlabel('Matrix size')\n",
    "    plt.ylabel('Time [s]')"
   ]
  },
  {
   "cell_type": "code",
   "execution_count": null,
   "metadata": {
    "collapsed": true
   },
   "outputs": [],
   "source": []
  },
  {
   "cell_type": "code",
   "execution_count": null,
   "metadata": {
    "collapsed": true
   },
   "outputs": [],
   "source": []
  }
 ],
 "metadata": {
  "kernelspec": {
   "display_name": "Python 3",
   "language": "python",
   "name": "python3"
  },
  "language_info": {
   "codemirror_mode": {
    "name": "ipython",
    "version": 3
   },
   "file_extension": ".py",
   "mimetype": "text/x-python",
   "name": "python",
   "nbconvert_exporter": "python",
   "pygments_lexer": "ipython3",
   "version": "3.5.1"
  }
 },
 "nbformat": 4,
 "nbformat_minor": 0
}
